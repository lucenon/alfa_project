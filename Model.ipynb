{
 "cells": [
  {
   "cell_type": "markdown",
   "id": "62eb9e61",
   "metadata": {},
   "source": [
    "Подключение библиотек"
   ]
  },
  {
   "cell_type": "code",
   "execution_count": 1,
   "id": "7ba6f21d",
   "metadata": {},
   "outputs": [],
   "source": [
    "import pandas as pd\n",
    "import re\n",
    "from sklearn.feature_extraction.text import TfidfVectorizer\n",
    "from sklearn.pipeline import Pipeline\n",
    "from sklearn.linear_model import LogisticRegression\n",
    "from sklearn.metrics import accuracy_score, f1_score\n",
    "from sklearn.model_selection import train_test_split\n",
    "from joblib import dump"
   ]
  },
  {
   "cell_type": "markdown",
   "id": "aef4afae",
   "metadata": {},
   "source": [
    "Загрузка датасета."
   ]
  },
  {
   "cell_type": "code",
   "execution_count": 2,
   "id": "e0fdb320",
   "metadata": {},
   "outputs": [],
   "source": [
    "df = pd.read_csv('sentiment_dataset.csv')"
   ]
  },
  {
   "cell_type": "markdown",
   "id": "3c424207",
   "metadata": {},
   "source": [
    "Чтобы файл vectorizer.joblib занимал меньший объем, были выбраны различающиеся источники, чтобы качество модели было максимальным."
   ]
  },
  {
   "cell_type": "code",
   "execution_count": 3,
   "id": "e785f6d5",
   "metadata": {},
   "outputs": [
    {
     "data": {
      "text/plain": [
       "array(['rureviews', 'anime', 'geo', 'sber', 'bank', 'rusentiment',\n",
       "       'kinopoisk', 'linis', 'news', 'ru-reviews-classification',\n",
       "       'perekrestok'], dtype=object)"
      ]
     },
     "execution_count": 3,
     "metadata": {},
     "output_type": "execute_result"
    }
   ],
   "source": [
    "df['src'].unique()"
   ]
  },
  {
   "cell_type": "code",
   "execution_count": 4,
   "id": "22e64af5",
   "metadata": {},
   "outputs": [],
   "source": [
    "df = df[df['src'].isin(['geo', 'news', 'sber', 'bank', 'rusentiment'])]"
   ]
  },
  {
   "cell_type": "code",
   "execution_count": 5,
   "id": "0953d7e8",
   "metadata": {},
   "outputs": [
    {
     "data": {
      "text/plain": [
       "(79622, 3)"
      ]
     },
     "execution_count": 5,
     "metadata": {},
     "output_type": "execute_result"
    }
   ],
   "source": [
    "df.shape"
   ]
  },
  {
   "cell_type": "markdown",
   "id": "a682e55e",
   "metadata": {},
   "source": [
    "Классы сбалансированны, пропущеные значения отсутствуют, дополнительная обработка не требуется."
   ]
  },
  {
   "cell_type": "code",
   "execution_count": 6,
   "id": "5901b000",
   "metadata": {},
   "outputs": [
    {
     "data": {
      "text/plain": [
       "2    26545\n",
       "0    26544\n",
       "1    26533\n",
       "Name: label, dtype: int64"
      ]
     },
     "execution_count": 6,
     "metadata": {},
     "output_type": "execute_result"
    }
   ],
   "source": [
    "df['label'].value_counts()"
   ]
  },
  {
   "cell_type": "markdown",
   "id": "8276a36d",
   "metadata": {},
   "source": [
    "Удаляются символы переноса строки, а также знаки и цифры, для упрощения модели оставляются данные длины не больше 1000. "
   ]
  },
  {
   "cell_type": "code",
   "execution_count": 7,
   "id": "ec1ab259",
   "metadata": {},
   "outputs": [],
   "source": [
    "df['text'] = df['text'].str.replace('\\n', ' ', regex=False)\n",
    "df['text'] = df['text'].str.replace('\\t', ' ', regex=False)\n",
    "df['text'] = df['text'].apply(lambda x: x.lower())\n",
    "df['clean_text'] = df['text'].apply(lambda x: re.sub(r'[^а-яё\\s]', '', x))\n",
    "df['clean_text'] = df['text'].apply(lambda x: ' '.join(x.split()))\n",
    "df = df[df['clean_text'].str.len() < 1000]\n",
    "df.drop(columns=['text', 'src'], inplace=True)"
   ]
  },
  {
   "cell_type": "markdown",
   "id": "b129573c",
   "metadata": {},
   "source": [
    "Используется TF-IDF преобразование, учитываются не только отдельные слова, а также биграммы и триграммы в атрибуте `ngram_range=(1, 3)`. Удаляются слова, которые встречаются в 90% документах и удаляются слишком редкие слова (или ошибочные) в атрибутах `min_df=5` и `max_df=0.9` соответственно. "
   ]
  },
  {
   "cell_type": "code",
   "execution_count": 8,
   "id": "f2294023",
   "metadata": {},
   "outputs": [],
   "source": [
    "X = df['clean_text']\n",
    "y = df['label'] \n",
    "\n",
    "X_train, X_test, y_train, y_test = train_test_split(X, y, test_size=0.2, random_state=42)"
   ]
  },
  {
   "cell_type": "markdown",
   "id": "1de646c5",
   "metadata": {},
   "source": [
    "Выбрана модель логистическая регрессия, поскольку она работает быстро для этой задачи и способна показывать достаточно высокие значения метрики качества accuracy и f1-score. C помощью GridSearch подобраны оптимальные параметры для модели."
   ]
  },
  {
   "cell_type": "code",
   "execution_count": 9,
   "id": "49589b39",
   "metadata": {},
   "outputs": [],
   "source": [
    "pipeline = Pipeline([\n",
    "    ('tfidf', TfidfVectorizer(\n",
    "        ngram_range=(1, 3),\n",
    "        min_df=5,\n",
    "        max_df=0.9,\n",
    "        max_features=50_000\n",
    "    )),\n",
    "    ('model', LogisticRegression(\n",
    "        max_iter=1000,\n",
    "        random_state=42,\n",
    "        penalty='l2',\n",
    "        solver='liblinear',\n",
    "        C=1.0\n",
    "    ))\n",
    "])\n",
    "\n",
    "pipeline.fit(X_train, y_train)\n",
    "y_pred = pipeline.predict(X_test)"
   ]
  },
  {
   "cell_type": "code",
   "execution_count": 10,
   "id": "f40e5331",
   "metadata": {},
   "outputs": [
    {
     "data": {
      "text/plain": [
       "array([0.68273669, 0.85417856, 0.75195719])"
      ]
     },
     "execution_count": 10,
     "metadata": {},
     "output_type": "execute_result"
    }
   ],
   "source": [
    "f1_score(y_test, y_pred, average=None)"
   ]
  },
  {
   "cell_type": "code",
   "execution_count": 11,
   "id": "b4eedf68",
   "metadata": {},
   "outputs": [
    {
     "data": {
      "text/plain": [
       "0.7651090753311803"
      ]
     },
     "execution_count": 11,
     "metadata": {},
     "output_type": "execute_result"
    }
   ],
   "source": [
    "accuracy_score(y_test, y_pred)"
   ]
  },
  {
   "cell_type": "markdown",
   "id": "c5df6459",
   "metadata": {},
   "source": [
    "Обучаем модель на всех данных."
   ]
  },
  {
   "cell_type": "code",
   "execution_count": 12,
   "id": "01538cea",
   "metadata": {},
   "outputs": [
    {
     "data": {
      "text/html": [
       "<style>#sk-container-id-1 {color: black;background-color: white;}#sk-container-id-1 pre{padding: 0;}#sk-container-id-1 div.sk-toggleable {background-color: white;}#sk-container-id-1 label.sk-toggleable__label {cursor: pointer;display: block;width: 100%;margin-bottom: 0;padding: 0.3em;box-sizing: border-box;text-align: center;}#sk-container-id-1 label.sk-toggleable__label-arrow:before {content: \"▸\";float: left;margin-right: 0.25em;color: #696969;}#sk-container-id-1 label.sk-toggleable__label-arrow:hover:before {color: black;}#sk-container-id-1 div.sk-estimator:hover label.sk-toggleable__label-arrow:before {color: black;}#sk-container-id-1 div.sk-toggleable__content {max-height: 0;max-width: 0;overflow: hidden;text-align: left;background-color: #f0f8ff;}#sk-container-id-1 div.sk-toggleable__content pre {margin: 0.2em;color: black;border-radius: 0.25em;background-color: #f0f8ff;}#sk-container-id-1 input.sk-toggleable__control:checked~div.sk-toggleable__content {max-height: 200px;max-width: 100%;overflow: auto;}#sk-container-id-1 input.sk-toggleable__control:checked~label.sk-toggleable__label-arrow:before {content: \"▾\";}#sk-container-id-1 div.sk-estimator input.sk-toggleable__control:checked~label.sk-toggleable__label {background-color: #d4ebff;}#sk-container-id-1 div.sk-label input.sk-toggleable__control:checked~label.sk-toggleable__label {background-color: #d4ebff;}#sk-container-id-1 input.sk-hidden--visually {border: 0;clip: rect(1px 1px 1px 1px);clip: rect(1px, 1px, 1px, 1px);height: 1px;margin: -1px;overflow: hidden;padding: 0;position: absolute;width: 1px;}#sk-container-id-1 div.sk-estimator {font-family: monospace;background-color: #f0f8ff;border: 1px dotted black;border-radius: 0.25em;box-sizing: border-box;margin-bottom: 0.5em;}#sk-container-id-1 div.sk-estimator:hover {background-color: #d4ebff;}#sk-container-id-1 div.sk-parallel-item::after {content: \"\";width: 100%;border-bottom: 1px solid gray;flex-grow: 1;}#sk-container-id-1 div.sk-label:hover label.sk-toggleable__label {background-color: #d4ebff;}#sk-container-id-1 div.sk-serial::before {content: \"\";position: absolute;border-left: 1px solid gray;box-sizing: border-box;top: 0;bottom: 0;left: 50%;z-index: 0;}#sk-container-id-1 div.sk-serial {display: flex;flex-direction: column;align-items: center;background-color: white;padding-right: 0.2em;padding-left: 0.2em;position: relative;}#sk-container-id-1 div.sk-item {position: relative;z-index: 1;}#sk-container-id-1 div.sk-parallel {display: flex;align-items: stretch;justify-content: center;background-color: white;position: relative;}#sk-container-id-1 div.sk-item::before, #sk-container-id-1 div.sk-parallel-item::before {content: \"\";position: absolute;border-left: 1px solid gray;box-sizing: border-box;top: 0;bottom: 0;left: 50%;z-index: -1;}#sk-container-id-1 div.sk-parallel-item {display: flex;flex-direction: column;z-index: 1;position: relative;background-color: white;}#sk-container-id-1 div.sk-parallel-item:first-child::after {align-self: flex-end;width: 50%;}#sk-container-id-1 div.sk-parallel-item:last-child::after {align-self: flex-start;width: 50%;}#sk-container-id-1 div.sk-parallel-item:only-child::after {width: 0;}#sk-container-id-1 div.sk-dashed-wrapped {border: 1px dashed gray;margin: 0 0.4em 0.5em 0.4em;box-sizing: border-box;padding-bottom: 0.4em;background-color: white;}#sk-container-id-1 div.sk-label label {font-family: monospace;font-weight: bold;display: inline-block;line-height: 1.2em;}#sk-container-id-1 div.sk-label-container {text-align: center;}#sk-container-id-1 div.sk-container {/* jupyter's `normalize.less` sets `[hidden] { display: none; }` but bootstrap.min.css set `[hidden] { display: none !important; }` so we also need the `!important` here to be able to override the default hidden behavior on the sphinx rendered scikit-learn.org. See: https://github.com/scikit-learn/scikit-learn/issues/21755 */display: inline-block !important;position: relative;}#sk-container-id-1 div.sk-text-repr-fallback {display: none;}</style><div id=\"sk-container-id-1\" class=\"sk-top-container\"><div class=\"sk-text-repr-fallback\"><pre>Pipeline(steps=[(&#x27;tfidf&#x27;,\n",
       "                 TfidfVectorizer(max_df=0.9, max_features=50000, min_df=5,\n",
       "                                 ngram_range=(1, 3))),\n",
       "                (&#x27;model&#x27;,\n",
       "                 LogisticRegression(max_iter=1000, random_state=42,\n",
       "                                    solver=&#x27;liblinear&#x27;))])</pre><b>In a Jupyter environment, please rerun this cell to show the HTML representation or trust the notebook. <br />On GitHub, the HTML representation is unable to render, please try loading this page with nbviewer.org.</b></div><div class=\"sk-container\" hidden><div class=\"sk-item sk-dashed-wrapped\"><div class=\"sk-label-container\"><div class=\"sk-label sk-toggleable\"><input class=\"sk-toggleable__control sk-hidden--visually\" id=\"sk-estimator-id-1\" type=\"checkbox\" ><label for=\"sk-estimator-id-1\" class=\"sk-toggleable__label sk-toggleable__label-arrow\">Pipeline</label><div class=\"sk-toggleable__content\"><pre>Pipeline(steps=[(&#x27;tfidf&#x27;,\n",
       "                 TfidfVectorizer(max_df=0.9, max_features=50000, min_df=5,\n",
       "                                 ngram_range=(1, 3))),\n",
       "                (&#x27;model&#x27;,\n",
       "                 LogisticRegression(max_iter=1000, random_state=42,\n",
       "                                    solver=&#x27;liblinear&#x27;))])</pre></div></div></div><div class=\"sk-serial\"><div class=\"sk-item\"><div class=\"sk-estimator sk-toggleable\"><input class=\"sk-toggleable__control sk-hidden--visually\" id=\"sk-estimator-id-2\" type=\"checkbox\" ><label for=\"sk-estimator-id-2\" class=\"sk-toggleable__label sk-toggleable__label-arrow\">TfidfVectorizer</label><div class=\"sk-toggleable__content\"><pre>TfidfVectorizer(max_df=0.9, max_features=50000, min_df=5, ngram_range=(1, 3))</pre></div></div></div><div class=\"sk-item\"><div class=\"sk-estimator sk-toggleable\"><input class=\"sk-toggleable__control sk-hidden--visually\" id=\"sk-estimator-id-3\" type=\"checkbox\" ><label for=\"sk-estimator-id-3\" class=\"sk-toggleable__label sk-toggleable__label-arrow\">LogisticRegression</label><div class=\"sk-toggleable__content\"><pre>LogisticRegression(max_iter=1000, random_state=42, solver=&#x27;liblinear&#x27;)</pre></div></div></div></div></div></div></div>"
      ],
      "text/plain": [
       "Pipeline(steps=[('tfidf',\n",
       "                 TfidfVectorizer(max_df=0.9, max_features=50000, min_df=5,\n",
       "                                 ngram_range=(1, 3))),\n",
       "                ('model',\n",
       "                 LogisticRegression(max_iter=1000, random_state=42,\n",
       "                                    solver='liblinear'))])"
      ]
     },
     "execution_count": 12,
     "metadata": {},
     "output_type": "execute_result"
    }
   ],
   "source": [
    "pipeline.fit(X, y)"
   ]
  },
  {
   "cell_type": "markdown",
   "id": "fd4340fb",
   "metadata": {},
   "source": [
    "Сохранение модели и векторайзера."
   ]
  },
  {
   "cell_type": "code",
   "execution_count": 15,
   "id": "1aa7add2",
   "metadata": {},
   "outputs": [
    {
     "data": {
      "text/plain": [
       "['pipeline.joblib']"
      ]
     },
     "execution_count": 15,
     "metadata": {},
     "output_type": "execute_result"
    }
   ],
   "source": [
    "dump(pipeline, 'pipeline.joblib', compress=('gzip', 9))"
   ]
  }
 ],
 "metadata": {
  "kernelspec": {
   "display_name": "Python 3 (ipykernel)",
   "language": "python",
   "name": "python3"
  },
  "language_info": {
   "codemirror_mode": {
    "name": "ipython",
    "version": 3
   },
   "file_extension": ".py",
   "mimetype": "text/x-python",
   "name": "python",
   "nbconvert_exporter": "python",
   "pygments_lexer": "ipython3",
   "version": "3.9.17"
  }
 },
 "nbformat": 4,
 "nbformat_minor": 5
}
